{
 "cells": [
  {
   "cell_type": "code",
   "execution_count": 47,
   "id": "dae82ae0-65c2-4e90-be1b-8e5ca75aa790",
   "metadata": {},
   "outputs": [],
   "source": [
    "import pandas as pd\n",
    "import numpy as np"
   ]
  },
  {
   "cell_type": "code",
   "execution_count": 48,
   "id": "da2a1afd-b80f-44be-9654-463521f5eee0",
   "metadata": {},
   "outputs": [
    {
     "name": "stdout",
     "output_type": "stream",
     "text": [
      "[10, 20, 30]\n"
     ]
    }
   ],
   "source": [
    "dados = [10, 20, 30]\n",
    "print(dados)"
   ]
  },
  {
   "cell_type": "code",
   "execution_count": 49,
   "id": "6b724fc6-5375-414a-98ef-d82117c978d6",
   "metadata": {},
   "outputs": [
    {
     "name": "stdout",
     "output_type": "stream",
     "text": [
      "0    10\n",
      "1    20\n",
      "2    30\n",
      "dtype: int64\n"
     ]
    }
   ],
   "source": [
    "serie = pd.Series(dados)\n",
    "print(serie)"
   ]
  },
  {
   "cell_type": "code",
   "execution_count": 52,
   "id": "5a9f72e5-3a4c-4496-a8d8-b144b922f6ed",
   "metadata": {},
   "outputs": [
    {
     "name": "stdout",
     "output_type": "stream",
     "text": [
      "      Nome  Idade          Cidade  Salário\n",
      "0    Maria   30.0       Joinville   3500.0\n",
      "1    Joana   40.0       São Paulo   9000.0\n",
      "2     José   50.0  Rio de Janeiro   4350.0\n",
      "3    Pedro   12.0        Curitiba  15000.0\n",
      "4    Paulo   60.0       Joinville   1650.0\n",
      "5     João   71.0        Curitiba   6000.0\n",
      "6  Marcelo    NaN             NaN      0.0\n"
     ]
    }
   ],
   "source": [
    "dados = {\n",
    "    \"Nome\": [\"Maria\", \"Joana\", \"José\", \"Pedro\", \"Paulo\", \"João\", \"Marcelo\"],\n",
    "    \"Idade\": [30, 40, 50, 12, 60, 71, np.nan],\n",
    "    \"Cidade\": [\"Joinville\", \"São Paulo\", \"Rio de Janeiro\", \"Curitiba\", \"Joinville\", \"Curitiba\", np.nan],\n",
    "    \"Salário\": [3_500.00, 9_000.00, 4_350.00, 15_000.00, 1_650.00, 6_000.00, 0]\n",
    "}\n",
    "#print(dados)\n",
    "\n",
    "df = pd.DataFrame(dados)\n",
    "print(df)"
   ]
  },
  {
   "cell_type": "code",
   "execution_count": 66,
   "id": "39ee95fd-1321-4432-a3fc-df2996f929c0",
   "metadata": {},
   "outputs": [
    {
     "data": {
      "text/html": [
       "<div>\n",
       "<style scoped>\n",
       "    .dataframe tbody tr th:only-of-type {\n",
       "        vertical-align: middle;\n",
       "    }\n",
       "\n",
       "    .dataframe tbody tr th {\n",
       "        vertical-align: top;\n",
       "    }\n",
       "\n",
       "    .dataframe thead th {\n",
       "        text-align: right;\n",
       "    }\n",
       "</style>\n",
       "<table border=\"1\" class=\"dataframe\">\n",
       "  <thead>\n",
       "    <tr style=\"text-align: right;\">\n",
       "      <th></th>\n",
       "      <th>Nome</th>\n",
       "      <th>Idade</th>\n",
       "      <th>Cidade</th>\n",
       "      <th>Salário</th>\n",
       "    </tr>\n",
       "  </thead>\n",
       "  <tbody>\n",
       "    <tr>\n",
       "      <th>0</th>\n",
       "      <td>Maria</td>\n",
       "      <td>30.0</td>\n",
       "      <td>Joinville</td>\n",
       "      <td>3500.0</td>\n",
       "    </tr>\n",
       "    <tr>\n",
       "      <th>1</th>\n",
       "      <td>Joana</td>\n",
       "      <td>40.0</td>\n",
       "      <td>São Paulo</td>\n",
       "      <td>9000.0</td>\n",
       "    </tr>\n",
       "    <tr>\n",
       "      <th>2</th>\n",
       "      <td>José</td>\n",
       "      <td>50.0</td>\n",
       "      <td>Rio de Janeiro</td>\n",
       "      <td>4350.0</td>\n",
       "    </tr>\n",
       "    <tr>\n",
       "      <th>3</th>\n",
       "      <td>Pedro</td>\n",
       "      <td>12.0</td>\n",
       "      <td>Curitiba</td>\n",
       "      <td>15000.0</td>\n",
       "    </tr>\n",
       "    <tr>\n",
       "      <th>4</th>\n",
       "      <td>Paulo</td>\n",
       "      <td>60.0</td>\n",
       "      <td>Joinville</td>\n",
       "      <td>1650.0</td>\n",
       "    </tr>\n",
       "  </tbody>\n",
       "</table>\n",
       "</div>"
      ],
      "text/plain": [
       "    Nome  Idade          Cidade  Salário\n",
       "0  Maria   30.0       Joinville   3500.0\n",
       "1  Joana   40.0       São Paulo   9000.0\n",
       "2   José   50.0  Rio de Janeiro   4350.0\n",
       "3  Pedro   12.0        Curitiba  15000.0\n",
       "4  Paulo   60.0       Joinville   1650.0"
      ]
     },
     "execution_count": 66,
     "metadata": {},
     "output_type": "execute_result"
    }
   ],
   "source": [
    "#df.tail()\n",
    "df.head()"
   ]
  },
  {
   "cell_type": "code",
   "execution_count": 65,
   "id": "213eab09-9577-488b-add1-d2cb62bb2074",
   "metadata": {},
   "outputs": [
    {
     "data": {
      "text/plain": [
       "Nome        object\n",
       "Idade      float64\n",
       "Cidade      object\n",
       "Salário    float64\n",
       "dtype: object"
      ]
     },
     "execution_count": 65,
     "metadata": {},
     "output_type": "execute_result"
    }
   ],
   "source": [
    "#df.shape\n",
    "df.columns\n",
    "df.dtypes"
   ]
  },
  {
   "cell_type": "code",
   "execution_count": 55,
   "id": "b71516f5-cdef-49eb-a137-aacf19c97c43",
   "metadata": {},
   "outputs": [
    {
     "name": "stdout",
     "output_type": "stream",
     "text": [
      "<class 'pandas.core.frame.DataFrame'>\n",
      "RangeIndex: 7 entries, 0 to 6\n",
      "Data columns (total 4 columns):\n",
      " #   Column   Non-Null Count  Dtype  \n",
      "---  ------   --------------  -----  \n",
      " 0   Nome     7 non-null      object \n",
      " 1   Idade    6 non-null      float64\n",
      " 2   Cidade   6 non-null      object \n",
      " 3   Salário  7 non-null      float64\n",
      "dtypes: float64(2), object(2)\n",
      "memory usage: 356.0+ bytes\n"
     ]
    }
   ],
   "source": [
    "df.info()"
   ]
  },
  {
   "cell_type": "code",
   "execution_count": 56,
   "id": "3ff1a541-0aed-40d4-b2eb-25102e5d6b2e",
   "metadata": {},
   "outputs": [
    {
     "data": {
      "text/html": [
       "<div>\n",
       "<style scoped>\n",
       "    .dataframe tbody tr th:only-of-type {\n",
       "        vertical-align: middle;\n",
       "    }\n",
       "\n",
       "    .dataframe tbody tr th {\n",
       "        vertical-align: top;\n",
       "    }\n",
       "\n",
       "    .dataframe thead th {\n",
       "        text-align: right;\n",
       "    }\n",
       "</style>\n",
       "<table border=\"1\" class=\"dataframe\">\n",
       "  <thead>\n",
       "    <tr style=\"text-align: right;\">\n",
       "      <th></th>\n",
       "      <th>Idade</th>\n",
       "      <th>Salário</th>\n",
       "    </tr>\n",
       "  </thead>\n",
       "  <tbody>\n",
       "    <tr>\n",
       "      <th>count</th>\n",
       "      <td>6.000000</td>\n",
       "      <td>7.000000</td>\n",
       "    </tr>\n",
       "    <tr>\n",
       "      <th>mean</th>\n",
       "      <td>43.833333</td>\n",
       "      <td>5642.857143</td>\n",
       "    </tr>\n",
       "    <tr>\n",
       "      <th>std</th>\n",
       "      <td>21.245392</td>\n",
       "      <td>5049.787831</td>\n",
       "    </tr>\n",
       "    <tr>\n",
       "      <th>min</th>\n",
       "      <td>12.000000</td>\n",
       "      <td>0.000000</td>\n",
       "    </tr>\n",
       "    <tr>\n",
       "      <th>25%</th>\n",
       "      <td>32.500000</td>\n",
       "      <td>2575.000000</td>\n",
       "    </tr>\n",
       "    <tr>\n",
       "      <th>50%</th>\n",
       "      <td>45.000000</td>\n",
       "      <td>4350.000000</td>\n",
       "    </tr>\n",
       "    <tr>\n",
       "      <th>75%</th>\n",
       "      <td>57.500000</td>\n",
       "      <td>7500.000000</td>\n",
       "    </tr>\n",
       "    <tr>\n",
       "      <th>max</th>\n",
       "      <td>71.000000</td>\n",
       "      <td>15000.000000</td>\n",
       "    </tr>\n",
       "  </tbody>\n",
       "</table>\n",
       "</div>"
      ],
      "text/plain": [
       "           Idade       Salário\n",
       "count   6.000000      7.000000\n",
       "mean   43.833333   5642.857143\n",
       "std    21.245392   5049.787831\n",
       "min    12.000000      0.000000\n",
       "25%    32.500000   2575.000000\n",
       "50%    45.000000   4350.000000\n",
       "75%    57.500000   7500.000000\n",
       "max    71.000000  15000.000000"
      ]
     },
     "execution_count": 56,
     "metadata": {},
     "output_type": "execute_result"
    }
   ],
   "source": [
    "df.describe()"
   ]
  },
  {
   "cell_type": "code",
   "execution_count": 80,
   "id": "4cce8c67-0cab-474a-95dd-6cd041ed0509",
   "metadata": {},
   "outputs": [
    {
     "data": {
      "text/plain": [
       "'São Paulo'"
      ]
     },
     "execution_count": 80,
     "metadata": {},
     "output_type": "execute_result"
    }
   ],
   "source": [
    "df['Salário']\n",
    "df.iloc[1]\n",
    "df.iloc[1, 2]\n",
    "#df.iloc[1:3]"
   ]
  },
  {
   "cell_type": "code",
   "execution_count": 92,
   "id": "e12322e3-929a-4d04-a79d-0d7ff689742e",
   "metadata": {},
   "outputs": [
    {
     "data": {
      "text/plain": [
       "0      Maria\n",
       "1      Joana\n",
       "2       José\n",
       "3      Pedro\n",
       "4      Paulo\n",
       "5       João\n",
       "6    Marcelo\n",
       "Name: Nome, dtype: object"
      ]
     },
     "execution_count": 92,
     "metadata": {},
     "output_type": "execute_result"
    }
   ],
   "source": [
    "df.loc[:,\"Nome\"]"
   ]
  },
  {
   "cell_type": "code",
   "execution_count": 87,
   "id": "a51b5864-73e9-42da-b784-0b9bf475e1f7",
   "metadata": {},
   "outputs": [
    {
     "data": {
      "text/html": [
       "<div>\n",
       "<style scoped>\n",
       "    .dataframe tbody tr th:only-of-type {\n",
       "        vertical-align: middle;\n",
       "    }\n",
       "\n",
       "    .dataframe tbody tr th {\n",
       "        vertical-align: top;\n",
       "    }\n",
       "\n",
       "    .dataframe thead th {\n",
       "        text-align: right;\n",
       "    }\n",
       "</style>\n",
       "<table border=\"1\" class=\"dataframe\">\n",
       "  <thead>\n",
       "    <tr style=\"text-align: right;\">\n",
       "      <th></th>\n",
       "      <th>Nome</th>\n",
       "      <th>Idade</th>\n",
       "      <th>Cidade</th>\n",
       "    </tr>\n",
       "  </thead>\n",
       "  <tbody>\n",
       "    <tr>\n",
       "      <th>0</th>\n",
       "      <td>Maria</td>\n",
       "      <td>30.0</td>\n",
       "      <td>Joinville</td>\n",
       "    </tr>\n",
       "    <tr>\n",
       "      <th>1</th>\n",
       "      <td>Joana</td>\n",
       "      <td>40.0</td>\n",
       "      <td>São Paulo</td>\n",
       "    </tr>\n",
       "    <tr>\n",
       "      <th>2</th>\n",
       "      <td>José</td>\n",
       "      <td>50.0</td>\n",
       "      <td>Rio de Janeiro</td>\n",
       "    </tr>\n",
       "    <tr>\n",
       "      <th>3</th>\n",
       "      <td>Pedro</td>\n",
       "      <td>12.0</td>\n",
       "      <td>Curitiba</td>\n",
       "    </tr>\n",
       "    <tr>\n",
       "      <th>4</th>\n",
       "      <td>Paulo</td>\n",
       "      <td>60.0</td>\n",
       "      <td>Joinville</td>\n",
       "    </tr>\n",
       "    <tr>\n",
       "      <th>5</th>\n",
       "      <td>João</td>\n",
       "      <td>71.0</td>\n",
       "      <td>Curitiba</td>\n",
       "    </tr>\n",
       "    <tr>\n",
       "      <th>6</th>\n",
       "      <td>Marcelo</td>\n",
       "      <td>NaN</td>\n",
       "      <td>NaN</td>\n",
       "    </tr>\n",
       "  </tbody>\n",
       "</table>\n",
       "</div>"
      ],
      "text/plain": [
       "      Nome  Idade          Cidade\n",
       "0    Maria   30.0       Joinville\n",
       "1    Joana   40.0       São Paulo\n",
       "2     José   50.0  Rio de Janeiro\n",
       "3    Pedro   12.0        Curitiba\n",
       "4    Paulo   60.0       Joinville\n",
       "5     João   71.0        Curitiba\n",
       "6  Marcelo    NaN             NaN"
      ]
     },
     "execution_count": 87,
     "metadata": {},
     "output_type": "execute_result"
    }
   ],
   "source": [
    "df.iloc[:, :3] "
   ]
  },
  {
   "cell_type": "code",
   "execution_count": 100,
   "id": "9b08b204-2b8e-4716-985a-7c71b7d1fa65",
   "metadata": {},
   "outputs": [
    {
     "data": {
      "text/html": [
       "<div>\n",
       "<style scoped>\n",
       "    .dataframe tbody tr th:only-of-type {\n",
       "        vertical-align: middle;\n",
       "    }\n",
       "\n",
       "    .dataframe tbody tr th {\n",
       "        vertical-align: top;\n",
       "    }\n",
       "\n",
       "    .dataframe thead th {\n",
       "        text-align: right;\n",
       "    }\n",
       "</style>\n",
       "<table border=\"1\" class=\"dataframe\">\n",
       "  <thead>\n",
       "    <tr style=\"text-align: right;\">\n",
       "      <th></th>\n",
       "      <th>Nome</th>\n",
       "      <th>Cidade</th>\n",
       "    </tr>\n",
       "  </thead>\n",
       "  <tbody>\n",
       "    <tr>\n",
       "      <th>1</th>\n",
       "      <td>Joana</td>\n",
       "      <td>São Paulo</td>\n",
       "    </tr>\n",
       "    <tr>\n",
       "      <th>2</th>\n",
       "      <td>José</td>\n",
       "      <td>Rio de Janeiro</td>\n",
       "    </tr>\n",
       "    <tr>\n",
       "      <th>4</th>\n",
       "      <td>Paulo</td>\n",
       "      <td>Joinville</td>\n",
       "    </tr>\n",
       "    <tr>\n",
       "      <th>5</th>\n",
       "      <td>João</td>\n",
       "      <td>Curitiba</td>\n",
       "    </tr>\n",
       "  </tbody>\n",
       "</table>\n",
       "</div>"
      ],
      "text/plain": [
       "    Nome          Cidade\n",
       "1  Joana       São Paulo\n",
       "2   José  Rio de Janeiro\n",
       "4  Paulo       Joinville\n",
       "5   João        Curitiba"
      ]
     },
     "execution_count": 100,
     "metadata": {},
     "output_type": "execute_result"
    }
   ],
   "source": [
    "df.loc[df[\"Idade\"] > 30, [\"Nome\", \"Cidade\"]]"
   ]
  },
  {
   "cell_type": "code",
   "execution_count": 101,
   "id": "b3ac0641-c3f0-46e6-95cd-d97bad71795d",
   "metadata": {},
   "outputs": [
    {
     "data": {
      "text/html": [
       "<div>\n",
       "<style scoped>\n",
       "    .dataframe tbody tr th:only-of-type {\n",
       "        vertical-align: middle;\n",
       "    }\n",
       "\n",
       "    .dataframe tbody tr th {\n",
       "        vertical-align: top;\n",
       "    }\n",
       "\n",
       "    .dataframe thead th {\n",
       "        text-align: right;\n",
       "    }\n",
       "</style>\n",
       "<table border=\"1\" class=\"dataframe\">\n",
       "  <thead>\n",
       "    <tr style=\"text-align: right;\">\n",
       "      <th></th>\n",
       "      <th>Nome</th>\n",
       "      <th>Cidade</th>\n",
       "    </tr>\n",
       "  </thead>\n",
       "  <tbody>\n",
       "    <tr>\n",
       "      <th>1</th>\n",
       "      <td>Joana</td>\n",
       "      <td>São Paulo</td>\n",
       "    </tr>\n",
       "    <tr>\n",
       "      <th>2</th>\n",
       "      <td>José</td>\n",
       "      <td>Rio de Janeiro</td>\n",
       "    </tr>\n",
       "    <tr>\n",
       "      <th>4</th>\n",
       "      <td>Paulo</td>\n",
       "      <td>Joinville</td>\n",
       "    </tr>\n",
       "    <tr>\n",
       "      <th>5</th>\n",
       "      <td>João</td>\n",
       "      <td>Curitiba</td>\n",
       "    </tr>\n",
       "  </tbody>\n",
       "</table>\n",
       "</div>"
      ],
      "text/plain": [
       "    Nome          Cidade\n",
       "1  Joana       São Paulo\n",
       "2   José  Rio de Janeiro\n",
       "4  Paulo       Joinville\n",
       "5   João        Curitiba"
      ]
     },
     "execution_count": 101,
     "metadata": {},
     "output_type": "execute_result"
    }
   ],
   "source": [
    "df[df['Idade'] > 30][['Nome', 'Cidade']]"
   ]
  },
  {
   "cell_type": "code",
   "execution_count": 108,
   "id": "d633232c-1353-4ee3-aa5c-7aa1af9ad50b",
   "metadata": {},
   "outputs": [
    {
     "data": {
      "text/html": [
       "<div>\n",
       "<style scoped>\n",
       "    .dataframe tbody tr th:only-of-type {\n",
       "        vertical-align: middle;\n",
       "    }\n",
       "\n",
       "    .dataframe tbody tr th {\n",
       "        vertical-align: top;\n",
       "    }\n",
       "\n",
       "    .dataframe thead th {\n",
       "        text-align: right;\n",
       "    }\n",
       "</style>\n",
       "<table border=\"1\" class=\"dataframe\">\n",
       "  <thead>\n",
       "    <tr style=\"text-align: right;\">\n",
       "      <th></th>\n",
       "      <th>Nome</th>\n",
       "      <th>Cidade</th>\n",
       "    </tr>\n",
       "  </thead>\n",
       "  <tbody>\n",
       "    <tr>\n",
       "      <th>0</th>\n",
       "      <td>Maria</td>\n",
       "      <td>Joinville</td>\n",
       "    </tr>\n",
       "    <tr>\n",
       "      <th>1</th>\n",
       "      <td>Joana</td>\n",
       "      <td>São Paulo</td>\n",
       "    </tr>\n",
       "    <tr>\n",
       "      <th>2</th>\n",
       "      <td>José</td>\n",
       "      <td>Rio de Janeiro</td>\n",
       "    </tr>\n",
       "    <tr>\n",
       "      <th>3</th>\n",
       "      <td>Pedro</td>\n",
       "      <td>Curitiba</td>\n",
       "    </tr>\n",
       "    <tr>\n",
       "      <th>4</th>\n",
       "      <td>Paulo</td>\n",
       "      <td>Joinville</td>\n",
       "    </tr>\n",
       "    <tr>\n",
       "      <th>5</th>\n",
       "      <td>João</td>\n",
       "      <td>Curitiba</td>\n",
       "    </tr>\n",
       "    <tr>\n",
       "      <th>6</th>\n",
       "      <td>Marcelo</td>\n",
       "      <td>NaN</td>\n",
       "    </tr>\n",
       "  </tbody>\n",
       "</table>\n",
       "</div>"
      ],
      "text/plain": [
       "      Nome          Cidade\n",
       "0    Maria       Joinville\n",
       "1    Joana       São Paulo\n",
       "2     José  Rio de Janeiro\n",
       "3    Pedro        Curitiba\n",
       "4    Paulo       Joinville\n",
       "5     João        Curitiba\n",
       "6  Marcelo             NaN"
      ]
     },
     "execution_count": 108,
     "metadata": {},
     "output_type": "execute_result"
    }
   ],
   "source": [
    "df[:][[\"Nome\", \"Cidade\"]]"
   ]
  },
  {
   "cell_type": "code",
   "execution_count": 111,
   "id": "dbc6c5e4-ab04-46ac-9675-ea55c888fb30",
   "metadata": {},
   "outputs": [
    {
     "data": {
      "text/html": [
       "<div>\n",
       "<style scoped>\n",
       "    .dataframe tbody tr th:only-of-type {\n",
       "        vertical-align: middle;\n",
       "    }\n",
       "\n",
       "    .dataframe tbody tr th {\n",
       "        vertical-align: top;\n",
       "    }\n",
       "\n",
       "    .dataframe thead th {\n",
       "        text-align: right;\n",
       "    }\n",
       "</style>\n",
       "<table border=\"1\" class=\"dataframe\">\n",
       "  <thead>\n",
       "    <tr style=\"text-align: right;\">\n",
       "      <th></th>\n",
       "      <th>Nome</th>\n",
       "      <th>Idade</th>\n",
       "      <th>Cidade</th>\n",
       "      <th>Salário</th>\n",
       "    </tr>\n",
       "  </thead>\n",
       "  <tbody>\n",
       "    <tr>\n",
       "      <th>0</th>\n",
       "      <td>False</td>\n",
       "      <td>False</td>\n",
       "      <td>False</td>\n",
       "      <td>False</td>\n",
       "    </tr>\n",
       "    <tr>\n",
       "      <th>1</th>\n",
       "      <td>False</td>\n",
       "      <td>False</td>\n",
       "      <td>False</td>\n",
       "      <td>False</td>\n",
       "    </tr>\n",
       "    <tr>\n",
       "      <th>2</th>\n",
       "      <td>False</td>\n",
       "      <td>False</td>\n",
       "      <td>False</td>\n",
       "      <td>False</td>\n",
       "    </tr>\n",
       "    <tr>\n",
       "      <th>3</th>\n",
       "      <td>False</td>\n",
       "      <td>False</td>\n",
       "      <td>False</td>\n",
       "      <td>False</td>\n",
       "    </tr>\n",
       "    <tr>\n",
       "      <th>4</th>\n",
       "      <td>False</td>\n",
       "      <td>False</td>\n",
       "      <td>False</td>\n",
       "      <td>False</td>\n",
       "    </tr>\n",
       "    <tr>\n",
       "      <th>5</th>\n",
       "      <td>False</td>\n",
       "      <td>False</td>\n",
       "      <td>False</td>\n",
       "      <td>False</td>\n",
       "    </tr>\n",
       "    <tr>\n",
       "      <th>6</th>\n",
       "      <td>False</td>\n",
       "      <td>True</td>\n",
       "      <td>True</td>\n",
       "      <td>False</td>\n",
       "    </tr>\n",
       "  </tbody>\n",
       "</table>\n",
       "</div>"
      ],
      "text/plain": [
       "    Nome  Idade  Cidade  Salário\n",
       "0  False  False   False    False\n",
       "1  False  False   False    False\n",
       "2  False  False   False    False\n",
       "3  False  False   False    False\n",
       "4  False  False   False    False\n",
       "5  False  False   False    False\n",
       "6  False   True    True    False"
      ]
     },
     "execution_count": 111,
     "metadata": {},
     "output_type": "execute_result"
    }
   ],
   "source": [
    "df.isnull()"
   ]
  },
  {
   "cell_type": "code",
   "execution_count": 126,
   "id": "a920e02c-187d-4c73-922b-9037b708109f",
   "metadata": {},
   "outputs": [
    {
     "data": {
      "text/plain": [
       "Cidade\n",
       "Curitiba          10500.0\n",
       "Joinville          2575.0\n",
       "Rio de Janeiro     4350.0\n",
       "São Paulo          9000.0\n",
       "Name: Salário, dtype: float64"
      ]
     },
     "execution_count": 126,
     "metadata": {},
     "output_type": "execute_result"
    }
   ],
   "source": [
    "df.groupby('Cidade')['Salário'].mean()"
   ]
  },
  {
   "cell_type": "code",
   "execution_count": 124,
   "id": "43dae986-5d3e-4b08-b8ad-522b416c420a",
   "metadata": {},
   "outputs": [
    {
     "data": {
      "text/plain": [
       "Cidade\n",
       "Curitiba          2\n",
       "Joinville         2\n",
       "Rio de Janeiro    1\n",
       "São Paulo         1\n",
       "dtype: int64"
      ]
     },
     "execution_count": 124,
     "metadata": {},
     "output_type": "execute_result"
    }
   ],
   "source": [
    "df.groupby('Cidade').size()"
   ]
  },
  {
   "cell_type": "code",
   "execution_count": 127,
   "id": "e2121f89-d3d4-4fc6-b5a8-f6bb4045d992",
   "metadata": {},
   "outputs": [
    {
     "data": {
      "text/html": [
       "<div>\n",
       "<style scoped>\n",
       "    .dataframe tbody tr th:only-of-type {\n",
       "        vertical-align: middle;\n",
       "    }\n",
       "\n",
       "    .dataframe tbody tr th {\n",
       "        vertical-align: top;\n",
       "    }\n",
       "\n",
       "    .dataframe thead tr th {\n",
       "        text-align: left;\n",
       "    }\n",
       "\n",
       "    .dataframe thead tr:last-of-type th {\n",
       "        text-align: right;\n",
       "    }\n",
       "</style>\n",
       "<table border=\"1\" class=\"dataframe\">\n",
       "  <thead>\n",
       "    <tr>\n",
       "      <th></th>\n",
       "      <th colspan=\"2\" halign=\"left\">Salário</th>\n",
       "      <th>Idade</th>\n",
       "    </tr>\n",
       "    <tr>\n",
       "      <th></th>\n",
       "      <th>mean</th>\n",
       "      <th>max</th>\n",
       "      <th>median</th>\n",
       "    </tr>\n",
       "    <tr>\n",
       "      <th>Cidade</th>\n",
       "      <th></th>\n",
       "      <th></th>\n",
       "      <th></th>\n",
       "    </tr>\n",
       "  </thead>\n",
       "  <tbody>\n",
       "    <tr>\n",
       "      <th>Curitiba</th>\n",
       "      <td>10500.0</td>\n",
       "      <td>15000.0</td>\n",
       "      <td>41.5</td>\n",
       "    </tr>\n",
       "    <tr>\n",
       "      <th>Joinville</th>\n",
       "      <td>2575.0</td>\n",
       "      <td>3500.0</td>\n",
       "      <td>45.0</td>\n",
       "    </tr>\n",
       "    <tr>\n",
       "      <th>Rio de Janeiro</th>\n",
       "      <td>4350.0</td>\n",
       "      <td>4350.0</td>\n",
       "      <td>50.0</td>\n",
       "    </tr>\n",
       "    <tr>\n",
       "      <th>São Paulo</th>\n",
       "      <td>9000.0</td>\n",
       "      <td>9000.0</td>\n",
       "      <td>40.0</td>\n",
       "    </tr>\n",
       "  </tbody>\n",
       "</table>\n",
       "</div>"
      ],
      "text/plain": [
       "                Salário           Idade\n",
       "                   mean      max median\n",
       "Cidade                                 \n",
       "Curitiba        10500.0  15000.0   41.5\n",
       "Joinville        2575.0   3500.0   45.0\n",
       "Rio de Janeiro   4350.0   4350.0   50.0\n",
       "São Paulo        9000.0   9000.0   40.0"
      ]
     },
     "execution_count": 127,
     "metadata": {},
     "output_type": "execute_result"
    }
   ],
   "source": [
    "df.groupby('Cidade').agg({\n",
    "    'Salário': ['mean', 'max'],\n",
    "    'Idade': 'median'\n",
    "})"
   ]
  },
  {
   "cell_type": "code",
   "execution_count": 114,
   "id": "96f361e4-3248-420d-91ea-46209d0f9af1",
   "metadata": {},
   "outputs": [
    {
     "data": {
      "text/html": [
       "<div>\n",
       "<style scoped>\n",
       "    .dataframe tbody tr th:only-of-type {\n",
       "        vertical-align: middle;\n",
       "    }\n",
       "\n",
       "    .dataframe tbody tr th {\n",
       "        vertical-align: top;\n",
       "    }\n",
       "\n",
       "    .dataframe thead th {\n",
       "        text-align: right;\n",
       "    }\n",
       "</style>\n",
       "<table border=\"1\" class=\"dataframe\">\n",
       "  <thead>\n",
       "    <tr style=\"text-align: right;\">\n",
       "      <th></th>\n",
       "      <th>Nome</th>\n",
       "      <th>Idade</th>\n",
       "      <th>Cidade</th>\n",
       "      <th>Salário</th>\n",
       "    </tr>\n",
       "  </thead>\n",
       "  <tbody>\n",
       "    <tr>\n",
       "      <th>0</th>\n",
       "      <td>Maria</td>\n",
       "      <td>30.0</td>\n",
       "      <td>Joinville</td>\n",
       "      <td>3500.0</td>\n",
       "    </tr>\n",
       "    <tr>\n",
       "      <th>1</th>\n",
       "      <td>Joana</td>\n",
       "      <td>40.0</td>\n",
       "      <td>São Paulo</td>\n",
       "      <td>9000.0</td>\n",
       "    </tr>\n",
       "    <tr>\n",
       "      <th>2</th>\n",
       "      <td>José</td>\n",
       "      <td>50.0</td>\n",
       "      <td>Rio de Janeiro</td>\n",
       "      <td>4350.0</td>\n",
       "    </tr>\n",
       "    <tr>\n",
       "      <th>3</th>\n",
       "      <td>Pedro</td>\n",
       "      <td>12.0</td>\n",
       "      <td>Curitiba</td>\n",
       "      <td>15000.0</td>\n",
       "    </tr>\n",
       "    <tr>\n",
       "      <th>4</th>\n",
       "      <td>Paulo</td>\n",
       "      <td>60.0</td>\n",
       "      <td>Joinville</td>\n",
       "      <td>1650.0</td>\n",
       "    </tr>\n",
       "    <tr>\n",
       "      <th>5</th>\n",
       "      <td>João</td>\n",
       "      <td>71.0</td>\n",
       "      <td>Curitiba</td>\n",
       "      <td>6000.0</td>\n",
       "    </tr>\n",
       "    <tr>\n",
       "      <th>6</th>\n",
       "      <td>Marcelo</td>\n",
       "      <td>NaN</td>\n",
       "      <td>NaN</td>\n",
       "      <td>0.0</td>\n",
       "    </tr>\n",
       "  </tbody>\n",
       "</table>\n",
       "</div>"
      ],
      "text/plain": [
       "      Nome  Idade          Cidade  Salário\n",
       "0    Maria   30.0       Joinville   3500.0\n",
       "1    Joana   40.0       São Paulo   9000.0\n",
       "2     José   50.0  Rio de Janeiro   4350.0\n",
       "3    Pedro   12.0        Curitiba  15000.0\n",
       "4    Paulo   60.0       Joinville   1650.0\n",
       "5     João   71.0        Curitiba   6000.0\n",
       "6  Marcelo    NaN             NaN      0.0"
      ]
     },
     "execution_count": 114,
     "metadata": {},
     "output_type": "execute_result"
    }
   ],
   "source": [
    "df"
   ]
  },
  {
   "cell_type": "code",
   "execution_count": 130,
   "id": "b7c388f5-8d04-472e-b45d-b9af489398d0",
   "metadata": {},
   "outputs": [
    {
     "data": {
      "text/html": [
       "<div>\n",
       "<style scoped>\n",
       "    .dataframe tbody tr th:only-of-type {\n",
       "        vertical-align: middle;\n",
       "    }\n",
       "\n",
       "    .dataframe tbody tr th {\n",
       "        vertical-align: top;\n",
       "    }\n",
       "\n",
       "    .dataframe thead th {\n",
       "        text-align: right;\n",
       "    }\n",
       "</style>\n",
       "<table border=\"1\" class=\"dataframe\">\n",
       "  <thead>\n",
       "    <tr style=\"text-align: right;\">\n",
       "      <th></th>\n",
       "      <th></th>\n",
       "      <th>Nome</th>\n",
       "      <th>Salário</th>\n",
       "    </tr>\n",
       "    <tr>\n",
       "      <th>Cidade</th>\n",
       "      <th>Idade</th>\n",
       "      <th></th>\n",
       "      <th></th>\n",
       "    </tr>\n",
       "  </thead>\n",
       "  <tbody>\n",
       "    <tr>\n",
       "      <th rowspan=\"2\" valign=\"top\">Curitiba</th>\n",
       "      <th>12.0</th>\n",
       "      <td>Pedro</td>\n",
       "      <td>15000.0</td>\n",
       "    </tr>\n",
       "    <tr>\n",
       "      <th>71.0</th>\n",
       "      <td>João</td>\n",
       "      <td>6000.0</td>\n",
       "    </tr>\n",
       "    <tr>\n",
       "      <th rowspan=\"2\" valign=\"top\">Joinville</th>\n",
       "      <th>30.0</th>\n",
       "      <td>Maria</td>\n",
       "      <td>3500.0</td>\n",
       "    </tr>\n",
       "    <tr>\n",
       "      <th>60.0</th>\n",
       "      <td>Paulo</td>\n",
       "      <td>1650.0</td>\n",
       "    </tr>\n",
       "    <tr>\n",
       "      <th>Rio de Janeiro</th>\n",
       "      <th>50.0</th>\n",
       "      <td>José</td>\n",
       "      <td>4350.0</td>\n",
       "    </tr>\n",
       "    <tr>\n",
       "      <th>São Paulo</th>\n",
       "      <th>40.0</th>\n",
       "      <td>Joana</td>\n",
       "      <td>9000.0</td>\n",
       "    </tr>\n",
       "  </tbody>\n",
       "</table>\n",
       "</div>"
      ],
      "text/plain": [
       "                       Nome  Salário\n",
       "Cidade         Idade                \n",
       "Curitiba       12.0   Pedro  15000.0\n",
       "               71.0    João   6000.0\n",
       "Joinville      30.0   Maria   3500.0\n",
       "               60.0   Paulo   1650.0\n",
       "Rio de Janeiro 50.0    José   4350.0\n",
       "São Paulo      40.0   Joana   9000.0"
      ]
     },
     "execution_count": 130,
     "metadata": {},
     "output_type": "execute_result"
    }
   ],
   "source": [
    "df.groupby(['Cidade', 'Idade']).sum()"
   ]
  },
  {
   "cell_type": "code",
   "execution_count": 139,
   "id": "cd6eea44-a8cc-455b-a645-e52f244e3079",
   "metadata": {},
   "outputs": [
    {
     "data": {
      "text/html": [
       "<div>\n",
       "<style scoped>\n",
       "    .dataframe tbody tr th:only-of-type {\n",
       "        vertical-align: middle;\n",
       "    }\n",
       "\n",
       "    .dataframe tbody tr th {\n",
       "        vertical-align: top;\n",
       "    }\n",
       "\n",
       "    .dataframe thead th {\n",
       "        text-align: right;\n",
       "    }\n",
       "</style>\n",
       "<table border=\"1\" class=\"dataframe\">\n",
       "  <thead>\n",
       "    <tr style=\"text-align: right;\">\n",
       "      <th></th>\n",
       "      <th>Nome</th>\n",
       "      <th>Idade</th>\n",
       "      <th>Cidade</th>\n",
       "      <th>Salário</th>\n",
       "    </tr>\n",
       "  </thead>\n",
       "  <tbody>\n",
       "    <tr>\n",
       "      <th>0</th>\n",
       "      <td>Maria</td>\n",
       "      <td>30.0</td>\n",
       "      <td>Joinville</td>\n",
       "      <td>3500.0</td>\n",
       "    </tr>\n",
       "    <tr>\n",
       "      <th>1</th>\n",
       "      <td>Joana</td>\n",
       "      <td>40.0</td>\n",
       "      <td>São Paulo</td>\n",
       "      <td>9000.0</td>\n",
       "    </tr>\n",
       "    <tr>\n",
       "      <th>2</th>\n",
       "      <td>José</td>\n",
       "      <td>50.0</td>\n",
       "      <td>Rio de Janeiro</td>\n",
       "      <td>4350.0</td>\n",
       "    </tr>\n",
       "    <tr>\n",
       "      <th>3</th>\n",
       "      <td>Pedro</td>\n",
       "      <td>12.0</td>\n",
       "      <td>Curitiba</td>\n",
       "      <td>15000.0</td>\n",
       "    </tr>\n",
       "    <tr>\n",
       "      <th>4</th>\n",
       "      <td>Paulo</td>\n",
       "      <td>60.0</td>\n",
       "      <td>Joinville</td>\n",
       "      <td>1650.0</td>\n",
       "    </tr>\n",
       "    <tr>\n",
       "      <th>5</th>\n",
       "      <td>João</td>\n",
       "      <td>71.0</td>\n",
       "      <td>Curitiba</td>\n",
       "      <td>6000.0</td>\n",
       "    </tr>\n",
       "    <tr>\n",
       "      <th>6</th>\n",
       "      <td>Marcelo</td>\n",
       "      <td>NaN</td>\n",
       "      <td>NaN</td>\n",
       "      <td>0.0</td>\n",
       "    </tr>\n",
       "  </tbody>\n",
       "</table>\n",
       "</div>"
      ],
      "text/plain": [
       "      Nome  Idade          Cidade  Salário\n",
       "0    Maria   30.0       Joinville   3500.0\n",
       "1    Joana   40.0       São Paulo   9000.0\n",
       "2     José   50.0  Rio de Janeiro   4350.0\n",
       "3    Pedro   12.0        Curitiba  15000.0\n",
       "4    Paulo   60.0       Joinville   1650.0\n",
       "5     João   71.0        Curitiba   6000.0\n",
       "6  Marcelo    NaN             NaN      0.0"
      ]
     },
     "execution_count": 139,
     "metadata": {},
     "output_type": "execute_result"
    }
   ],
   "source": [
    "df"
   ]
  },
  {
   "cell_type": "code",
   "execution_count": 153,
   "id": "55fc9abe-cf36-483e-bc3a-cbb115c1c19c",
   "metadata": {},
   "outputs": [],
   "source": [
    "df[\"Cidade\"].replace(\"São Paulo\", \"SP\", inplace=True)"
   ]
  },
  {
   "cell_type": "markdown",
   "id": "ab3da83e-fd16-48fa-8f64-26c6a674dbfe",
   "metadata": {},
   "source": [
    "#### BASE DE DADOS TITANIC\n",
    "------"
   ]
  },
  {
   "cell_type": "code",
   "execution_count": 8,
   "id": "5a474d11-e383-466d-97da-d97d4698808f",
   "metadata": {},
   "outputs": [],
   "source": [
    "import pandas as pd"
   ]
  },
  {
   "cell_type": "code",
   "execution_count": 34,
   "id": "61dcf830-f1e8-4b51-b976-f0e93b01f814",
   "metadata": {},
   "outputs": [],
   "source": [
    "## CARREGAR E VISUALIZAR OS DADOS\n",
    "df = pd.read_csv(\"../../DATASETS/titanic.csv\")"
   ]
  },
  {
   "cell_type": "code",
   "execution_count": 19,
   "id": "ca91ece8-86fa-472f-85d2-117811f48e6c",
   "metadata": {},
   "outputs": [
    {
     "data": {
      "text/plain": [
       "(1309, 12)"
      ]
     },
     "execution_count": 19,
     "metadata": {},
     "output_type": "execute_result"
    }
   ],
   "source": [
    "## VISUALIZAR INFORMAÇÕES BÁSICAS SOBRE O DATASET\n",
    "df.shape\n",
    "df.columns\n",
    "df.dtypes\n",
    "df.info()\n",
    "df.describe()"
   ]
  },
  {
   "cell_type": "code",
   "execution_count": 33,
   "id": "5ddbde09-49bd-4012-9afe-0cc04481db86",
   "metadata": {},
   "outputs": [],
   "source": [
    "## FILTRAR PASSAGEIROS POR IDADE (MENORES DE 18 ANOS)\n",
    "criancas = df[df['Age'] < 18]"
   ]
  },
  {
   "cell_type": "code",
   "execution_count": 41,
   "id": "8c1528d3-81ec-425c-9451-ebd293722a17",
   "metadata": {},
   "outputs": [],
   "source": [
    "## FILTRAR PASSAGEIROS DA PRIMEIRA CLASSE\n",
    "primeira_classe = df[df['Pclass'] == 1]"
   ]
  },
  {
   "cell_type": "code",
   "execution_count": 46,
   "id": "5558c078-3433-47c0-9427-82a969dd594f",
   "metadata": {},
   "outputs": [],
   "source": [
    "## FILTRAR PASSAGEIROS POR IDADE E CLASSE\n",
    "criancas_primeira_classe = df[(df['Age'] < 18) & (df['Pclass'] == 1)]"
   ]
  },
  {
   "cell_type": "code",
   "execution_count": 47,
   "id": "0e969de6-6502-4b8e-8f54-8a04af031733",
   "metadata": {},
   "outputs": [],
   "source": [
    "## CONTAR QUANTOS PASSAGEIROS SOBREVIVERAM E QUANTOS NÃO SOBREVIVERAM\n",
    "sobreviventes = df['Survived'].value_counts()"
   ]
  },
  {
   "cell_type": "code",
   "execution_count": 58,
   "id": "8444b03e-a928-4117-83b0-6c83a42097d9",
   "metadata": {},
   "outputs": [],
   "source": [
    "## CALCULAR A TAXA DE SOBREVIVENCIA POR SEXO\n",
    "taxa_sobrevivencia_por_sexo = df.groupby('Sex')['Survived'].mean() * 100"
   ]
  },
  {
   "cell_type": "code",
   "execution_count": 60,
   "id": "59cd6386-a3da-4aef-97bc-37502e6ab97e",
   "metadata": {},
   "outputs": [],
   "source": [
    "## QUAL A IDADE MEDIA DOS SOBREVIVENTES E DOS NÃO SOBREVIVENTES?\n",
    "idade_media = df.groupby('Survived')['Age'].mean()"
   ]
  },
  {
   "cell_type": "code",
   "execution_count": 69,
   "id": "d223bd08-c266-4f98-af1d-29012afc5e0b",
   "metadata": {},
   "outputs": [
    {
     "data": {
      "text/plain": [
       "(7, 12)"
      ]
     },
     "execution_count": 69,
     "metadata": {},
     "output_type": "execute_result"
    }
   ],
   "source": [
    "## QUEM PAGOU A TARIFA MAIS CARA?\n",
    "mais_caro = df[df['Fare'] == df['Fare'].max()]\n",
    "mais_caro[['Name', 'Fare', 'Pclass']]\n",
    "mais_caro.shape"
   ]
  },
  {
   "cell_type": "code",
   "execution_count": 77,
   "id": "74c78b4d-0224-4806-a980-994e031b9601",
   "metadata": {},
   "outputs": [],
   "source": [
    "## QUAL FOI A MEDIA DE TARIFAS PAGA POR CLASSE\n",
    "tarifa_media = df.groupby('Pclass')['Fare'].mean()"
   ]
  },
  {
   "cell_type": "code",
   "execution_count": 105,
   "id": "4c635fd4-4e2b-4d50-b6fb-d5cb77c3b713",
   "metadata": {},
   "outputs": [
    {
     "data": {
      "image/png": "[encoded data removed]",
      "text/plain": [
       "<Figure size 640x480 with 1 Axes>"
      ]
     },
     "metadata": {},
     "output_type": "display_data"
    }
   ],
   "source": [
    "## CRIAR UM GRÁFICO DE BARRAS MOSTRANDO A SOBREVIVENCIA POR CLASSE\n",
    "import matplotlib.pyplot as plt\n",
    "\n",
    "sobreviventes_por_classe = df.groupby('Pclass')['Survived'].mean()\n",
    "plt.bar(sobreviventes_por_classe.index, sobreviventes_por_classe.values)\n",
    "plt.xticks(sobreviventes_por_classe.index)\n",
    "plt.xlabel('Classe do Passageiro')\n",
    "plt.ylabel('Taxa de Sobrevivência')\n",
    "plt.title('Taxa de Sobrevivência por Classe')\n",
    "plt.show()\n",
    "\n",
    "\n"
   ]
  },
  {
   "cell_type": "code",
   "execution_count": null,
   "id": "9f451e75-08b0-4809-a793-4a12a6919f4e",
   "metadata": {},
   "outputs": [],
   "source": [
    "## CRIAR UMA NOVA COLUNA PARA INDICAR SE O PASSAGEIRO ERA CRIANÇA\n",
    "df"
   ]
  },
  {
   "cell_type": "code",
   "execution_count": null,
   "id": "4c566048-bbed-4126-8072-1dbce1e609ee",
   "metadata": {},
   "outputs": [],
   "source": []
  }
 ],
 "metadata": {
  "kernelspec": {
   "display_name": "Python 3 (ipykernel)",
   "language": "python",
   "name": "python3"
  },
  "language_info": {
   "codemirror_mode": {
    "name": "ipython",
    "version": 3
   },
   "file_extension": ".py",
   "mimetype": "text/x-python",
   "name": "python",
   "nbconvert_exporter": "python",
   "pygments_lexer": "ipython3",
   "version": "3.12.7"
  }
 },
 "nbformat": 4,
 "nbformat_minor": 5
}
