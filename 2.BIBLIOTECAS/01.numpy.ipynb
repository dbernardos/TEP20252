{
 "cells": [
  {
   "cell_type": "code",
   "execution_count": 6,
   "id": "64fbcee0-70ed-46c0-870c-8336b9ea9e2f",
   "metadata": {},
   "outputs": [],
   "source": [
    "import numpy as np"
   ]
  },
  {
   "cell_type": "code",
   "execution_count": 8,
   "id": "8a18810b-4ff7-440e-afd9-9a4a2249d31c",
   "metadata": {},
   "outputs": [
    {
     "name": "stdout",
     "output_type": "stream",
     "text": [
      "Lista: [1, 2, 3, 4, 5]\n",
      "Array: [1 2 3 4 5]\n"
     ]
    }
   ],
   "source": [
    "# LISTA\n",
    "lista = [1, 2, 3, 4, 5]\n",
    "array = np.array([1, 2, 3, 4, 5])\n",
    "\n",
    "print(f\"Lista: {lista}\")\n",
    "print(f\"Array: {array}\")"
   ]
  },
  {
   "cell_type": "code",
   "execution_count": 10,
   "id": "d578a426-7252-41f5-a9e8-de6361455d88",
   "metadata": {},
   "outputs": [
    {
     "name": "stdout",
     "output_type": "stream",
     "text": [
      "[6, 8, 10, 12]\n"
     ]
    }
   ],
   "source": [
    "# SOMAR DUAS LISTAS E ARMAZENAR EM C\n",
    "a = [1, 2, 3, 4]\n",
    "b = [5, 6, 7, 8]\n",
    "c = []\n",
    "\n",
    "for i in range(len(a)):\n",
    "    c.append(a[i] + b[i])\n",
    "\n",
    "print(c)"
   ]
  },
  {
   "cell_type": "code",
   "execution_count": 12,
   "id": "787d05e7-76fb-45e1-9343-e4780ce9716c",
   "metadata": {},
   "outputs": [
    {
     "name": "stdout",
     "output_type": "stream",
     "text": [
      "[ 6  8 10 12]\n"
     ]
    }
   ],
   "source": [
    "# SOMAR DOIS VETORES E ARMAZENAR EM C\n",
    "c = np.array(a) + np.array(b)\n",
    "print(c)"
   ]
  },
  {
   "cell_type": "code",
   "execution_count": 14,
   "id": "d83239d6-eaf8-44bd-a912-8f2a6f39e05b",
   "metadata": {},
   "outputs": [
    {
     "name": "stdout",
     "output_type": "stream",
     "text": [
      "Listas: 0.1495s\n",
      "NumPy:  0.0050s\n",
      "NumPy é 29.9x mais rápido!\n"
     ]
    }
   ],
   "source": [
    "import time\n",
    "\n",
    "# Criar vetores grandes\n",
    "size = 1_000_000\n",
    "a_list = list(range(size))\n",
    "b_list = list(range(size))\n",
    "a_np = np.arange(size)\n",
    "b_np = np.arange(size)\n",
    "\n",
    "# Com listas\n",
    "start = time.time()\n",
    "c_list = [a_list[i] + b_list[i] for i in range(size)]\n",
    "tempo_listas = time.time() - start\n",
    "\n",
    "# Com NumPy\n",
    "start = time.time()\n",
    "c_np = a_np + b_np\n",
    "tempo_numpy = time.time() - start\n",
    "\n",
    "print(f\"Listas: {tempo_listas:.4f}s\")\n",
    "print(f\"NumPy:  {tempo_numpy:.4f}s\")\n",
    "print(f\"NumPy é {tempo_listas/tempo_numpy:.1f}x mais rápido!\")"
   ]
  },
  {
   "cell_type": "code",
   "execution_count": null,
   "id": "6eef9713-41a2-4ef5-b108-36f51608b8d6",
   "metadata": {},
   "outputs": [],
   "source": []
  }
 ],
 "metadata": {
  "kernelspec": {
   "display_name": "Python 3 (ipykernel)",
   "language": "python",
   "name": "python3"
  },
  "language_info": {
   "codemirror_mode": {
    "name": "ipython",
    "version": 3
   },
   "file_extension": ".py",
   "mimetype": "text/x-python",
   "name": "python",
   "nbconvert_exporter": "python",
   "pygments_lexer": "ipython3",
   "version": "3.12.4"
  }
 },
 "nbformat": 4,
 "nbformat_minor": 5
}
