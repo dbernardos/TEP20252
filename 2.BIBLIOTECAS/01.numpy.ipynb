{
 "cells": [
  {
   "cell_type": "code",
   "execution_count": 4,
   "id": "64fbcee0-70ed-46c0-870c-8336b9ea9e2f",
   "metadata": {},
   "outputs": [],
   "source": [
    "import numpy as np"
   ]
  },
  {
   "cell_type": "markdown",
   "id": "c24c8b43-3a5f-4efe-aed1-2f09ab07b86c",
   "metadata": {},
   "source": [
    "#### EXEMPLO DE LISTA E ARRAY\n",
    "------"
   ]
  },
  {
   "cell_type": "code",
   "execution_count": 37,
   "id": "8a18810b-4ff7-440e-afd9-9a4a2249d31c",
   "metadata": {},
   "outputs": [
    {
     "name": "stdout",
     "output_type": "stream",
     "text": [
      "Lista: [1, 2, 3, 4, 5]\n",
      "Array: [1 2 3 4 5]\n"
     ]
    }
   ],
   "source": [
    "# LISTA\n",
    "lista = [1, 2, 3, 4, 5]\n",
    "array = np.array([1, 2, 3, 4, 5])\n",
    "\n",
    "print(f\"Lista: {lista}\")\n",
    "print(f\"Array: {array}\")"
   ]
  },
  {
   "cell_type": "code",
   "execution_count": 36,
   "id": "a047cd52-57c7-4f14-97de-49da04d73d22",
   "metadata": {},
   "outputs": [],
   "source": [
    "# SOMAR DUAS LISTAS E ARMAZENAR EM C\n",
    "a = [1, 2, 3, 4]\n",
    "b = [5, 6, 7, 8]\n",
    "c = []\n",
    "\n",
    "for i in range(len(a)):\n",
    "    c.append(a[i] + b[i])"
   ]
  },
  {
   "cell_type": "markdown",
   "id": "ccdc0d7e-07ff-4fb6-b49d-55cfbc9d2a04",
   "metadata": {},
   "source": [
    "#### LISTAS vs ARRAYS (np)\n",
    "------\n",
    "###### Crie dois vetores de 10 elementos com valores de 1 a 10. Calcule: \n",
    "- A soma dos elementos\n",
    "- O produto elemento a elemento\n",
    "- A média do vetor resultante da soma"
   ]
  },
  {
   "cell_type": "code",
   "execution_count": 38,
   "id": "e09852d2-d61a-44ed-bb9d-457817f0f78a",
   "metadata": {},
   "outputs": [
    {
     "name": "stdout",
     "output_type": "stream",
     "text": [
      " USANDO LISTAS \n",
      "----------------\n",
      "Soma dos elementos de a: 55\n",
      "Soma dos elementos de b: 55\n",
      "Produto elemento a elemento: [1, 4, 9, 16, 25, 36, 49, 64, 81, 100]\n",
      "Vetor soma (a + b): [2, 4, 6, 8, 10, 12, 14, 16, 18, 20]\n",
      "Média do vetor soma: 11.00\n"
     ]
    }
   ],
   "source": [
    "# RESOLUÇÃO USANDO LISTAS\n",
    "# Passo 1: Criar os vetores\n",
    "a = [1, 2, 3, 4, 5, 6, 7, 8, 9, 10]\n",
    "b = [1, 2, 3, 4, 5, 6, 7, 8, 9, 10]\n",
    "\n",
    "# Passo 2: Soma dos elementos de cada vetor\n",
    "# ---------------------------\n",
    "# Exemplo 01\n",
    "# for i in range(len(a)): \n",
    "#    c += a[i]\n",
    "# ---------------------------\n",
    "# Exemplo 02\n",
    "# sum([a[i] for i in range(len(a))])\n",
    "# ---------------------------\n",
    "soma_a = sum(a)  # 55\n",
    "soma_b = sum(b)  # 55\n",
    "\n",
    "# Passo 3: Produto elemento a elemento\n",
    "produto_elemento_a_elemento = [a[i] * b[i] for i in range(len(a))]\n",
    "# Resultado: [1, 4, 9, 16, 25, 36, 49, 64, 81, 100]\n",
    "\n",
    "# Passo 4: Soma elemento a elemento (para gerar o vetor da soma)\n",
    "soma_vetores = [a[i] + b[i] for i in range(len(a))]\n",
    "# Resultado: [2, 4, 6, 8, 10, 12, 14, 16, 18, 20]\n",
    "\n",
    "# Passo 5: Média do vetor resultante da soma\n",
    "media_soma = sum(soma_vetores) / len(soma_vetores)\n",
    "# Resultado: 11.0\n",
    "\n",
    "# Exibir resultados\n",
    "print(\" USANDO LISTAS \")\n",
    "print(\"----------------\")\n",
    "print(f\"Soma dos elementos de a: {soma_a}\")\n",
    "print(f\"Soma dos elementos de b: {soma_b}\")\n",
    "print(f\"Produto elemento a elemento: {produto_elemento_a_elemento}\")\n",
    "print(f\"Vetor soma (a + b): {soma_vetores}\")\n",
    "print(f\"Média do vetor soma: {media_soma:.2f}\")"
   ]
  },
  {
   "cell_type": "code",
   "execution_count": 39,
   "id": "5ed9f061-3b89-40f0-9227-f912c2b91577",
   "metadata": {},
   "outputs": [
    {
     "name": "stdout",
     "output_type": "stream",
     "text": [
      "[ 2  4  6  8 10]\n",
      "[ 1  4  9 16 25]\n",
      "[ 0.84147098  0.90929743  0.14112001 -0.7568025  -0.95892427]\n",
      "3.0\n",
      "15\n",
      "[False False False  True  True]\n"
     ]
    }
   ],
   "source": [
    "# PODER DO NUMPY\n",
    "import numpy as np\n",
    "\n",
    "arr = np.array([1, 2, 3, 4, 5])\n",
    "\n",
    "print(arr * 2)        # [ 2  4  6  8 10]\n",
    "print(arr ** 2)       # [ 1  4  9 16 25]\n",
    "print(np.sin(arr))    # seno de cada elemento\n",
    "print(arr.mean())     # média → 3.0\n",
    "print(arr.sum())      # soma → 15\n",
    "print(arr > 3)        # [False False False True True]"
   ]
  },
  {
   "cell_type": "code",
   "execution_count": 40,
   "id": "d5a8779e-5f74-4cc5-bf34-5c8564e45dd5",
   "metadata": {},
   "outputs": [
    {
     "name": "stdout",
     "output_type": "stream",
     "text": [
      " USANDO NUMPY\n",
      "----------------\n",
      "Soma dos elementos de a: 55\n",
      "Soma dos elementos de b: 55\n",
      "Produto elemento a elemento: [  1   4   9  16  25  36  49  64  81 100]\n",
      "Vetor soma (a + b): [ 2  4  6  8 10 12 14 16 18 20]\n",
      "Média do vetor soma: 11.00\n"
     ]
    }
   ],
   "source": [
    "# RESOLUÇÃO USANDO NUMPY\n",
    "# Passo 1: Criar os vetores\n",
    "a = np.arange(1, 11)\n",
    "b = np.arange(1, 11)\n",
    "\n",
    "# Passo 2: Soma dos elementos de cada vetor\n",
    "soma_a = a.sum()  # 55\n",
    "soma_b = b.sum()  # 55\n",
    "\n",
    "# Passo 3: Produto elemento a elemento\n",
    "produto_elemento_a_elemento = a * b\n",
    "# Resultado: [ 1  4  9 16 25 36 49 64 81 100]\n",
    "\n",
    "# Passo 4: Soma elemento a elemento\n",
    "soma_vetores = a + b\n",
    "# Resultado: [ 2  4  6  8 10 12 14 16 18 20]\n",
    "\n",
    "# Passo 5: Média do vetor resultante da soma\n",
    "media_soma = soma_vetores.mean()\n",
    "# Resultado: 11.0\n",
    "\n",
    "# Exibir resultados\n",
    "print(\" USANDO NUMPY\")\n",
    "print(\"----------------\")\n",
    "print(f\"Soma dos elementos de a: {soma_a}\")\n",
    "print(f\"Soma dos elementos de b: {soma_b}\")\n",
    "print(f\"Produto elemento a elemento: {produto_elemento_a_elemento}\")\n",
    "print(f\"Vetor soma (a + b): {soma_vetores}\")\n",
    "print(f\"Média do vetor soma: {media_soma:.2f}\")"
   ]
  },
  {
   "cell_type": "markdown",
   "id": "10868a3c-03eb-43e0-b3d3-c9939c83b452",
   "metadata": {},
   "source": [
    "#### EXPERIMENTO: TEMPO DE EXECUÇÃO LISTAS vs ARRAYS\n",
    "##### NEGATIVOS: verbose, lento, op mat diretas (concatena)\n",
    "##### POSITIVOS: sintaxe limpa, op vetorizadas, tipagem homogênea, broadcasting, func matemáticas\n",
    "-----------"
   ]
  },
  {
   "cell_type": "code",
   "execution_count": 16,
   "id": "d83239d6-eaf8-44bd-a912-8f2a6f39e05b",
   "metadata": {},
   "outputs": [
    {
     "name": "stdout",
     "output_type": "stream",
     "text": [
      "Listas: 0.1044s\n",
      "NumPy:  0.0020s\n",
      "NumPy é 90.2x mais rápido!\n"
     ]
    }
   ],
   "source": [
    "import numpy as np\n",
    "import time\n",
    "\n",
    "# Com listas\n",
    "def benchmark_lists(n):\n",
    "    a = list(range(n))\n",
    "    b = list(range(n))\n",
    "    start = time.time()\n",
    "    c = [a[i] + b[i] for i in range(n)]\n",
    "    return time.time() - start\n",
    "\n",
    "# Com NumPy\n",
    "def benchmark_np(n):\n",
    "    a = np.arange(n)\n",
    "    b = np.arange(n)\n",
    "    start = time.time()\n",
    "    c = a + b\n",
    "    return time.time() - start\n",
    "\n",
    "# Criar vetores grandes\n",
    "size = 1_000_000\n",
    "tempo_lista = benchmark_lists(size)\n",
    "tempo_np = benchmark_np(size)\n",
    "\n",
    "print(f\"Listas: {tempo_lista:.4f}s\")\n",
    "print(f\"NumPy:  {tempo_numpy:.4f}s\")\n",
    "print(f\"NumPy é {tempo_listas/tempo_numpy:.1f}x mais rápido!\")"
   ]
  },
  {
   "cell_type": "code",
   "execution_count": 19,
   "id": "7095ee2a-10f5-46ea-afed-bfb46409683a",
   "metadata": {},
   "outputs": [
    {
     "data": {
      "image/png": "[encoded data removed]",
      "text/plain": [
       "<Figure size 640x480 with 1 Axes>"
      ]
     },
     "metadata": {},
     "output_type": "display_data"
    }
   ],
   "source": [
    "import matplotlib.pyplot as plt\n",
    "\n",
    "sizes = [1_000, 10_000, 100_000, 1_000_000]\n",
    "times_lists = [benchmark_lists(n) for n in sizes]\n",
    "times_np = [benchmark_np(n) for n in sizes]\n",
    "\n",
    "plt.plot(sizes, times_lists, label='Listas Python', marker='o')\n",
    "plt.plot(sizes, times_np, label='Arrays NumPy', marker='s')\n",
    "plt.xlabel('Tamanho do vetor')\n",
    "plt.ylabel('Tempo (s)')\n",
    "plt.title('Desempenho: Listas vs NumPy')\n",
    "plt.legend()\n",
    "plt.grid(True)\n",
    "plt.show()"
   ]
  },
  {
   "cell_type": "markdown",
   "id": "26f81463-7ae8-4a2d-b596-2e210028182b",
   "metadata": {},
   "source": [
    "#### Outros exemplos\n",
    "-----"
   ]
  },
  {
   "cell_type": "code",
   "execution_count": 42,
   "id": "f4077113-18cb-47ab-8ba6-1d05b6b0ed45",
   "metadata": {},
   "outputs": [
    {
     "name": "stdout",
     "output_type": "stream",
     "text": [
      "[False False False  True False  True]\n",
      "[False False  True False False False]\n",
      "[ True False False False  True False]\n"
     ]
    }
   ],
   "source": [
    "import numpy as np\n",
    "\n",
    "arr = np.array([1, 5, 3, 9, 2, 8])\n",
    "\n",
    "# Comparações retornam arrays booleanos\n",
    "print(arr > 5)    # [False False False  True False  True]\n",
    "print(arr == 3)   # [False False  True False False False]\n",
    "print(arr <= 2)   # [ True False False False  True False]"
   ]
  },
  {
   "cell_type": "code",
   "execution_count": 43,
   "id": "a4bb4e4b-422b-4d42-bb53-db62b8671f12",
   "metadata": {},
   "outputs": [
    {
     "name": "stdout",
     "output_type": "stream",
     "text": [
      "[False  True False False False False]\n",
      "[5]\n",
      "[1 9 2 8]\n",
      "[1 5 3 2]\n",
      "True\n",
      "True\n"
     ]
    }
   ],
   "source": [
    "arr = np.array([1, 5, 3, 9, 2, 8])\n",
    "\n",
    "# Números maiores que 3 E menores que 8\n",
    "filtro = (arr > 3) & (arr < 8)\n",
    "print(filtro)          # [False  True False False False  True]\n",
    "print(arr[filtro])     # [5 8] — Indexação booleana (veja mais abaixo!)\n",
    "\n",
    "# Números menores que 3 OU maiores que 7\n",
    "filtro = (arr < 3) | (arr > 7)\n",
    "print(arr[filtro])     # [1 9 2 8]\n",
    "\n",
    "# Negação: NÃO maiores que 5\n",
    "filtro = ~(arr > 5)\n",
    "print(arr[filtro])     # [1 5 3 2]\n",
    "\n",
    "# Verificar se todos os elementos são > 0\n",
    "print(np.all(arr > 0))   # True\n",
    "\n",
    "# Verificar se algum elemento é == 9\n",
    "print(np.any(arr == 9))  # True"
   ]
  },
  {
   "cell_type": "code",
   "execution_count": 44,
   "id": "ddaf7f97-1e0c-482c-9224-c7c35a464129",
   "metadata": {},
   "outputs": [
    {
     "name": "stdout",
     "output_type": "stream",
     "text": [
      "[30 40 50]\n",
      "[ 0  0 30 40 50]\n",
      "[  0   0  60  80 100]\n"
     ]
    }
   ],
   "source": [
    "# selecionar ou modificar elementos que atendem a uma condição\n",
    "arr = np.array([10, 20, 30, 40, 50])\n",
    "\n",
    "# Selecionar apenas valores > 25\n",
    "selecionados = arr[arr > 25]\n",
    "print(selecionados)  # [30 40 50]\n",
    "\n",
    "# MODIFICAR valores que atendem a condição\n",
    "arr[arr < 30] = 0    # Substitui todos < 30 por 0\n",
    "print(arr)           # [ 0  0 30 40 50]\n",
    "\n",
    "# Multiplicar por 2 os valores pares\n",
    "arr[arr % 2 == 0] *= 2\n",
    "print(arr)           # [ 0  0 60 80 100]"
   ]
  },
  {
   "cell_type": "markdown",
   "id": "c6d0d65b-4bc5-4ff0-8236-693c26bddbfc",
   "metadata": {},
   "source": [
    "#### Acessando e Modificando Elementos\n",
    "------"
   ]
  },
  {
   "cell_type": "code",
   "execution_count": null,
   "id": "c0282ddf-dfca-4349-a397-a31bed8f66d0",
   "metadata": {},
   "outputs": [],
   "source": [
    "# Acesso Básico por Índice\n",
    "arr = np.array([10, 20, 30, 40, 50])\n",
    "\n",
    "print(arr[0])   # 10\n",
    "print(arr[-1])  # 50 (último)\n",
    "print(arr[1:4]) # [20 30 40] → slicing (igual listas, mas retorna view do array!)"
   ]
  },
  {
   "cell_type": "code",
   "execution_count": null,
   "id": "50594b48-a3ff-4071-a5f5-5d5ff7e6cb08",
   "metadata": {},
   "outputs": [],
   "source": [
    "# Em listas: lista[1:4] → cópia\n",
    "# Em NumPy: arr[1:4] → visão (view) → modificar a fatia modifica o original! \n",
    "\n",
    "fatia = arr[1:4]\n",
    "fatia[0] = 999\n",
    "print(arr)  # [ 10 999  30  40  50] → original foi modificado!\n",
    "\n",
    "fatia = arr[1:4].copy()\n",
    "fatia[0] = 111\n",
    "print(arr)  # não muda!"
   ]
  },
  {
   "cell_type": "code",
   "execution_count": null,
   "id": "f4ce4cd7-191f-420a-b79f-63dc536c7987",
   "metadata": {},
   "outputs": [],
   "source": [
    "# Indexação com Lista de Índices\n",
    "arr = np.array([10, 20, 30, 40, 50])\n",
    "\n",
    "# Acessar índices 0, 2 e 4\n",
    "selecionados = arr[[0, 2, 4]]\n",
    "print(selecionados)  # [10 30 50]\n",
    "\n",
    "# Modificar múltiplos índices de uma vez\n",
    "arr[[0, -1]] = [99, 88]\n",
    "print(arr)  # [99 20 30 40 88]"
   ]
  },
  {
   "cell_type": "code",
   "execution_count": null,
   "id": "23ca3140-c084-4d88-aa35-a62e0c97cf56",
   "metadata": {},
   "outputs": [],
   "source": [
    "# Atribuição com Indexação Avançada\n",
    "arr = np.array([1, 2, 3, 4, 5, 6, 7, 8, 9, 10])\n",
    "\n",
    "# Substituir todos os pares por -1\n",
    "arr[arr % 2 == 0] = -1\n",
    "print(arr)  # [ 1 -1  3 -1  5 -1  7 -1  9 -1]\n",
    "\n",
    "# Substituir múltiplos índices por um único valor\n",
    "arr[[1, 3, 5]] = 0\n",
    "print(arr)  # [ 1  0  3  0  5  0  7 -1  9 -1]\n",
    "\n",
    "# Substituir por valores diferentes (mesmo tamanho!)\n",
    "arr[[0, 2, 4]] = [100, 200, 300]\n",
    "print(arr)  # [100   0 200   0 300   0   7  -1   9  -1]"
   ]
  },
  {
   "cell_type": "markdown",
   "id": "24b8f0ea-d18e-4869-bd16-996eb0731794",
   "metadata": {},
   "source": [
    "#### Exercício de fixação\n",
    "##### Dado o array arr = np.array([3, -1, 4, -5, 0, 2, -3])\n",
    "- Crie um novo array com True onde os elementos são negativos.\n",
    "- Substitua todos os negativos por -999.\n",
    "- Multiplique por 10 apenas os elementos positivos.\n",
    "- Use np.where para criar um array com \"POSITIVO\", \"NEGATIVO\" ou \"ZERO\".\n",
    "------"
   ]
  },
  {
   "cell_type": "code",
   "execution_count": null,
   "id": "d880d5fa-e351-4214-8266-997549717e53",
   "metadata": {},
   "outputs": [],
   "source": [
    "arr = np.array([3, -1, 4, -5, 0, 2, -3])\n",
    "\n",
    "# 1\n",
    "negativos = arr < 0\n",
    "print(negativos)\n",
    "\n",
    "# 2\n",
    "arr[arr < 0] = -999\n",
    "print(arr)\n",
    "\n",
    "# 3\n",
    "arr[arr > 0] *= 10\n",
    "print(arr)\n",
    "\n",
    "# 4\n",
    "texto = np.where(arr > 0, \"POSITIVO\", np.where(arr < 0, \"NEGATIVO\", \"ZERO\"))\n",
    "print(texto)"
   ]
  },
  {
   "cell_type": "markdown",
   "id": "cda376b7-5e03-48ad-a1ac-1ec9f9244644",
   "metadata": {},
   "source": [
    "#### Casos onde listas ainda são úteis:\n",
    "- Dados heterogêneos (strings, inteiros, objetos juntos)\n",
    "- Tamanho dinâmico frequente (append, pop)\n",
    "- Pequenos conjuntos de dados (overhead de importação/conversão)\n",
    "-----------"
   ]
  }
 ],
 "metadata": {
  "kernelspec": {
   "display_name": "Python 3 (ipykernel)",
   "language": "python",
   "name": "python3"
  },
  "language_info": {
   "codemirror_mode": {
    "name": "ipython",
    "version": 3
   },
   "file_extension": ".py",
   "mimetype": "text/x-python",
   "name": "python",
   "nbconvert_exporter": "python",
   "pygments_lexer": "ipython3",
   "version": "3.12.7"
  }
 },
 "nbformat": 4,
 "nbformat_minor": 5
}
