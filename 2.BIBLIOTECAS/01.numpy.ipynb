{
 "cells": [
  {
   "cell_type": "code",
   "execution_count": 1,
   "id": "64fbcee0-70ed-46c0-870c-8336b9ea9e2f",
   "metadata": {},
   "outputs": [],
   "source": [
    "import numpy as np"
   ]
  },
  {
   "cell_type": "code",
   "execution_count": 42,
   "id": "8a18810b-4ff7-440e-afd9-9a4a2249d31c",
   "metadata": {},
   "outputs": [
    {
     "name": "stdout",
     "output_type": "stream",
     "text": [
      "Lista: [1, 2, 3, 4, 5]\n",
      "Array: [1 2 3 4 5]\n"
     ]
    }
   ],
   "source": [
    "# LISTA\n",
    "lista = [1, 2, 3, 4, 5]\n",
    "array = np.array([1, 2, 3, 4, 5])\n",
    "\n",
    "print(f\"Lista: {lista}\")\n",
    "print(f\"Array: {array}\")"
   ]
  },
  {
   "cell_type": "code",
   "execution_count": 50,
   "id": "d578a426-7252-41f5-a9e8-de6361455d88",
   "metadata": {},
   "outputs": [
    {
     "name": "stdout",
     "output_type": "stream",
     "text": [
      "[6, 8, 10, 12]\n"
     ]
    }
   ],
   "source": [
    "# SOMAR DUAS LISTAS E ARMAZENAR EM C\n",
    "a = [1, 2, 3, 4]\n",
    "b = [5, 6, 7, 8]\n",
    "c = []\n",
    "\n",
    "for i in range(len(a)):\n",
    "    c.append(a[i] + b[i])\n",
    "\n",
    "print(c)"
   ]
  },
  {
   "cell_type": "code",
   "execution_count": 46,
   "id": "787d05e7-76fb-45e1-9343-e4780ce9716c",
   "metadata": {},
   "outputs": [
    {
     "name": "stdout",
     "output_type": "stream",
     "text": [
      "[ 6  8 10 12]\n"
     ]
    }
   ],
   "source": [
    "# SOMAR DOIS VETORES E ARMAZENAR EM C\n",
    "c = np.array(a) + np.array(b)\n",
    "print(c)"
   ]
  },
  {
   "cell_type": "code",
   "execution_count": null,
   "id": "d83239d6-eaf8-44bd-a912-8f2a6f39e05b",
   "metadata": {},
   "outputs": [],
   "source": []
  }
 ],
 "metadata": {
  "kernelspec": {
   "display_name": "Python 3 (ipykernel)",
   "language": "python",
   "name": "python3"
  },
  "language_info": {
   "codemirror_mode": {
    "name": "ipython",
    "version": 3
   },
   "file_extension": ".py",
   "mimetype": "text/x-python",
   "name": "python",
   "nbconvert_exporter": "python",
   "pygments_lexer": "ipython3",
   "version": "3.12.4"
  }
 },
 "nbformat": 4,
 "nbformat_minor": 5
}
